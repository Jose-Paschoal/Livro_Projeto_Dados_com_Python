{
 "cells": [
  {
   "cell_type": "markdown",
   "id": "a2809080-df0f-4dac-a877-18a0c97a7b7d",
   "metadata": {},
   "source": [
    "# 2° Capítulo do livro \"Projetos de Ciência de Dados com Python\" - Scikit-Learn"
   ]
  },
  {
   "cell_type": "code",
   "execution_count": 1,
   "id": "cacc0b61-95f7-486e-bdff-46d40e781570",
   "metadata": {},
   "outputs": [],
   "source": [
    "## bibliotecas iniciais\n",
    "\n",
    "import pandas as pd\n",
    "import numpy as np"
   ]
  },
  {
   "cell_type": "code",
   "execution_count": 2,
   "id": "b6926d56-3b15-4525-bcfc-c5c0b75e57ac",
   "metadata": {},
   "outputs": [
    {
     "name": "stdout",
     "output_type": "stream",
     "text": [
      "O dataset contém 26664 linhas e 30 colunas\n"
     ]
    },
    {
     "data": {
      "text/html": [
       "<div>\n",
       "<style scoped>\n",
       "    .dataframe tbody tr th:only-of-type {\n",
       "        vertical-align: middle;\n",
       "    }\n",
       "\n",
       "    .dataframe tbody tr th {\n",
       "        vertical-align: top;\n",
       "    }\n",
       "\n",
       "    .dataframe thead th {\n",
       "        text-align: right;\n",
       "    }\n",
       "</style>\n",
       "<table border=\"1\" class=\"dataframe\">\n",
       "  <thead>\n",
       "    <tr style=\"text-align: right;\">\n",
       "      <th></th>\n",
       "      <th>ID</th>\n",
       "      <th>LIMIT_BAL</th>\n",
       "      <th>SEX</th>\n",
       "      <th>EDUCATION</th>\n",
       "      <th>MARRIAGE</th>\n",
       "      <th>AGE</th>\n",
       "      <th>PAY_1</th>\n",
       "      <th>PAY_2</th>\n",
       "      <th>PAY_3</th>\n",
       "      <th>PAY_4</th>\n",
       "      <th>...</th>\n",
       "      <th>PAY_AMT3</th>\n",
       "      <th>PAY_AMT4</th>\n",
       "      <th>PAY_AMT5</th>\n",
       "      <th>PAY_AMT6</th>\n",
       "      <th>default payment next month</th>\n",
       "      <th>EDUCATION_CAT</th>\n",
       "      <th>graduate school</th>\n",
       "      <th>high school</th>\n",
       "      <th>others</th>\n",
       "      <th>university</th>\n",
       "    </tr>\n",
       "  </thead>\n",
       "  <tbody>\n",
       "    <tr>\n",
       "      <th>0</th>\n",
       "      <td>798fc410-45c1</td>\n",
       "      <td>20000</td>\n",
       "      <td>2</td>\n",
       "      <td>2</td>\n",
       "      <td>1</td>\n",
       "      <td>24</td>\n",
       "      <td>2</td>\n",
       "      <td>2</td>\n",
       "      <td>-1</td>\n",
       "      <td>-1</td>\n",
       "      <td>...</td>\n",
       "      <td>0</td>\n",
       "      <td>0</td>\n",
       "      <td>0</td>\n",
       "      <td>0</td>\n",
       "      <td>1</td>\n",
       "      <td>university</td>\n",
       "      <td>0</td>\n",
       "      <td>0</td>\n",
       "      <td>0</td>\n",
       "      <td>1</td>\n",
       "    </tr>\n",
       "    <tr>\n",
       "      <th>1</th>\n",
       "      <td>8a8c8f3b-8eb4</td>\n",
       "      <td>120000</td>\n",
       "      <td>2</td>\n",
       "      <td>2</td>\n",
       "      <td>2</td>\n",
       "      <td>26</td>\n",
       "      <td>-1</td>\n",
       "      <td>2</td>\n",
       "      <td>0</td>\n",
       "      <td>0</td>\n",
       "      <td>...</td>\n",
       "      <td>1000</td>\n",
       "      <td>1000</td>\n",
       "      <td>0</td>\n",
       "      <td>2000</td>\n",
       "      <td>1</td>\n",
       "      <td>university</td>\n",
       "      <td>0</td>\n",
       "      <td>0</td>\n",
       "      <td>0</td>\n",
       "      <td>1</td>\n",
       "    </tr>\n",
       "    <tr>\n",
       "      <th>2</th>\n",
       "      <td>85698822-43f5</td>\n",
       "      <td>90000</td>\n",
       "      <td>2</td>\n",
       "      <td>2</td>\n",
       "      <td>2</td>\n",
       "      <td>34</td>\n",
       "      <td>0</td>\n",
       "      <td>0</td>\n",
       "      <td>0</td>\n",
       "      <td>0</td>\n",
       "      <td>...</td>\n",
       "      <td>1000</td>\n",
       "      <td>1000</td>\n",
       "      <td>1000</td>\n",
       "      <td>5000</td>\n",
       "      <td>0</td>\n",
       "      <td>university</td>\n",
       "      <td>0</td>\n",
       "      <td>0</td>\n",
       "      <td>0</td>\n",
       "      <td>1</td>\n",
       "    </tr>\n",
       "    <tr>\n",
       "      <th>3</th>\n",
       "      <td>0737c11b-be42</td>\n",
       "      <td>50000</td>\n",
       "      <td>2</td>\n",
       "      <td>2</td>\n",
       "      <td>1</td>\n",
       "      <td>37</td>\n",
       "      <td>0</td>\n",
       "      <td>0</td>\n",
       "      <td>0</td>\n",
       "      <td>0</td>\n",
       "      <td>...</td>\n",
       "      <td>1200</td>\n",
       "      <td>1100</td>\n",
       "      <td>1069</td>\n",
       "      <td>1000</td>\n",
       "      <td>0</td>\n",
       "      <td>university</td>\n",
       "      <td>0</td>\n",
       "      <td>0</td>\n",
       "      <td>0</td>\n",
       "      <td>1</td>\n",
       "    </tr>\n",
       "    <tr>\n",
       "      <th>4</th>\n",
       "      <td>3b7f77cc-dbc0</td>\n",
       "      <td>50000</td>\n",
       "      <td>1</td>\n",
       "      <td>2</td>\n",
       "      <td>1</td>\n",
       "      <td>57</td>\n",
       "      <td>-1</td>\n",
       "      <td>0</td>\n",
       "      <td>-1</td>\n",
       "      <td>0</td>\n",
       "      <td>...</td>\n",
       "      <td>10000</td>\n",
       "      <td>9000</td>\n",
       "      <td>689</td>\n",
       "      <td>679</td>\n",
       "      <td>0</td>\n",
       "      <td>university</td>\n",
       "      <td>0</td>\n",
       "      <td>0</td>\n",
       "      <td>0</td>\n",
       "      <td>1</td>\n",
       "    </tr>\n",
       "  </tbody>\n",
       "</table>\n",
       "<p>5 rows × 30 columns</p>\n",
       "</div>"
      ],
      "text/plain": [
       "              ID  LIMIT_BAL  SEX  EDUCATION  MARRIAGE  AGE  PAY_1  PAY_2  \\\n",
       "0  798fc410-45c1      20000    2          2         1   24      2      2   \n",
       "1  8a8c8f3b-8eb4     120000    2          2         2   26     -1      2   \n",
       "2  85698822-43f5      90000    2          2         2   34      0      0   \n",
       "3  0737c11b-be42      50000    2          2         1   37      0      0   \n",
       "4  3b7f77cc-dbc0      50000    1          2         1   57     -1      0   \n",
       "\n",
       "   PAY_3  PAY_4  ...  PAY_AMT3  PAY_AMT4  PAY_AMT5  PAY_AMT6  \\\n",
       "0     -1     -1  ...         0         0         0         0   \n",
       "1      0      0  ...      1000      1000         0      2000   \n",
       "2      0      0  ...      1000      1000      1000      5000   \n",
       "3      0      0  ...      1200      1100      1069      1000   \n",
       "4     -1      0  ...     10000      9000       689       679   \n",
       "\n",
       "   default payment next month  EDUCATION_CAT  graduate school  high school  \\\n",
       "0                           1     university                0            0   \n",
       "1                           1     university                0            0   \n",
       "2                           0     university                0            0   \n",
       "3                           0     university                0            0   \n",
       "4                           0     university                0            0   \n",
       "\n",
       "   others  university  \n",
       "0       0           1  \n",
       "1       0           1  \n",
       "2       0           1  \n",
       "3       0           1  \n",
       "4       0           1  \n",
       "\n",
       "[5 rows x 30 columns]"
      ]
     },
     "execution_count": 2,
     "metadata": {},
     "output_type": "execute_result"
    }
   ],
   "source": [
    "## leitura dos dados\n",
    "\n",
    "dados = pd.read_csv(r\"C:\\Users\\pasch\\Desktop\\CURSOS\\LIVRO_PROJETOS_C_DADOS_PYTHON\\Projeto\\cap1_data_limpo.csv\")\n",
    "\n",
    "print(f'O dataset contém {dados.shape[0]} linhas e {dados.shape[1]} colunas')\n",
    "dados.head()"
   ]
  },
  {
   "cell_type": "markdown",
   "id": "5fa4630a-8a61-4cf7-af5f-106ae4868148",
   "metadata": {},
   "source": [
    "## Criando Dados Sintéticos"
   ]
  },
  {
   "cell_type": "code",
   "execution_count": 3,
   "id": "073bc8c3-538f-4733-9b1c-6cfa0653ce1a",
   "metadata": {},
   "outputs": [],
   "source": [
    "np.random.seed(1)\n",
    "X =  np.random.uniform(low=0.0, high=10.0, size=(1000,))\n",
    "\n",
    "slope = 0.25\n",
    "intercept = -1.25\n",
    "noise = np.random.normal(loc=0.0, scale = 1.0, size=(1000,))\n",
    "\n",
    "y = slope * X + intercept + noise"
   ]
  },
  {
   "cell_type": "markdown",
   "id": "5352776f-4076-49ab-b865-da2353740b16",
   "metadata": {},
   "source": [
    "### Checando os Dados Criados"
   ]
  },
  {
   "cell_type": "code",
   "execution_count": 4,
   "id": "a1b24958-d8c6-4cb3-b09d-924ad6a02b41",
   "metadata": {},
   "outputs": [
    {
     "data": {
      "text/plain": [
       "<matplotlib.collections.PathCollection at 0x278c7e111f0>"
      ]
     },
     "execution_count": 4,
     "metadata": {},
     "output_type": "execute_result"
    },
    {
     "data": {
      "image/png": "[encoded data removed]",
      "text/plain": [
       "<Figure size 640x480 with 1 Axes>"
      ]
     },
     "metadata": {},
     "output_type": "display_data"
    }
   ],
   "source": [
    "import matplotlib.pyplot as plt\n",
    "\n",
    "plt.scatter(X, y, s=1)"
   ]
  },
  {
   "cell_type": "markdown",
   "id": "4dc2cb5e-b686-4c00-83e5-7f6a079c8d66",
   "metadata": {},
   "source": [
    "Esses dados serão usados para entender um pouco mais sobre a Regressão"
   ]
  },
  {
   "cell_type": "markdown",
   "id": "18ca9310-ff94-4ae7-8206-d3ad5aab00cb",
   "metadata": {},
   "source": [
    "# Exercício 8 - Pg 79 - 2° Capítulo"
   ]
  },
  {
   "cell_type": "markdown",
   "id": "8e6f5b0a-427b-4dfc-bdca-f3db0a897d05",
   "metadata": {},
   "source": [
    "## Regressão Linear - Scikit Learn"
   ]
  },
  {
   "cell_type": "code",
   "execution_count": 5,
   "id": "c32fd11e-a07e-4d85-9d6f-327b6dcc31cf",
   "metadata": {},
   "outputs": [
    {
     "data": {
      "text/plain": [
       "{'copy_X': True, 'fit_intercept': True, 'n_jobs': None, 'positive': False}"
      ]
     },
     "execution_count": 5,
     "metadata": {},
     "output_type": "execute_result"
    }
   ],
   "source": [
    "from sklearn.linear_model import LinearRegression\n",
    "\n",
    "lr = LinearRegression()  # modelo instanciodo no padrão\n",
    "lr.get_params()"
   ]
  },
  {
   "cell_type": "code",
   "execution_count": 6,
   "id": "2a44a337-c08c-4db2-b372-a12238252726",
   "metadata": {},
   "outputs": [
    {
     "data": {
      "text/plain": [
       "(array([0.25106337]), -1.208002189576312)"
      ]
     },
     "execution_count": 6,
     "metadata": {},
     "output_type": "execute_result"
    }
   ],
   "source": [
    "lr.fit(X.reshape(-1, 1), y)\n",
    "\n",
    "lr.coef_, lr.intercept_"
   ]
  },
  {
   "cell_type": "markdown",
   "id": "8e6c5308-c651-4c0a-a817-79e65631a22a",
   "metadata": {},
   "source": [
    "## Previsões"
   ]
  },
  {
   "cell_type": "code",
   "execution_count": 7,
   "id": "67ebfceb-6376-4bf5-a33c-906da807a235",
   "metadata": {},
   "outputs": [
    {
     "data": {
      "text/plain": [
       "array([-0.16101268,  0.60046878, -1.20771504, -0.44895584, -0.8395519 ,\n",
       "       -0.9761738 , -0.74037102, -0.34042577, -0.21186439,  0.14476928])"
      ]
     },
     "execution_count": 7,
     "metadata": {},
     "output_type": "execute_result"
    }
   ],
   "source": [
    "y_pred = lr.predict(X.reshape(-1,1))\n",
    "\n",
    "y_pred[:10]"
   ]
  },
  {
   "cell_type": "markdown",
   "id": "d56c6986-5ee1-45d1-9493-7406638d7da7",
   "metadata": {},
   "source": [
    "## Plotando Gráficos e Linha de Regressão"
   ]
  },
  {
   "cell_type": "code",
   "execution_count": 8,
   "id": "df503d03-16c7-4f25-ba98-7ead202bbe45",
   "metadata": {},
   "outputs": [
    {
     "data": {
      "text/plain": [
       "[<matplotlib.lines.Line2D at 0x278ccba3c70>]"
      ]
     },
     "execution_count": 8,
     "metadata": {},
     "output_type": "execute_result"
    },
    {
     "data": {
      "image/png": "[encoded data removed]",
      "text/plain": [
       "<Figure size 640x480 with 1 Axes>"
      ]
     },
     "metadata": {},
     "output_type": "display_data"
    }
   ],
   "source": [
    "plt.scatter(X, y, s=1) # s é o tamanho das bolinhas\n",
    "plt.plot(X, y_pred, 'r')"
   ]
  },
  {
   "cell_type": "markdown",
   "id": "c3e9ba15-0998-4835-8c33-69c4df5eb9b7",
   "metadata": {},
   "source": [
    "## Avaliação do Modelo"
   ]
  },
  {
   "cell_type": "markdown",
   "id": "0f11a4b4-6a60-46d9-8a1c-0396a4436adc",
   "metadata": {},
   "source": [
    "### Dividindo os Dados em Treino e Teste"
   ]
  },
  {
   "cell_type": "code",
   "execution_count": 9,
   "id": "de57a9cd-6d20-4dbd-a375-f09eac03fd05",
   "metadata": {},
   "outputs": [],
   "source": [
    "from sklearn.model_selection import train_test_split\n",
    "\n",
    "X_train, X_test, y_train, y_test = train_test_split(dados['EDUCATION'].values.reshape(-1, 1),\n",
    "                                                    dados['default payment next month'].values,\n",
    "                                                    test_size=0.2,\n",
    "                                                    random_state=24)"
   ]
  },
  {
   "cell_type": "code",
   "execution_count": 10,
   "id": "74bf2bb1-518e-49aa-a9f4-21d8226271a9",
   "metadata": {},
   "outputs": [
    {
     "data": {
      "text/plain": [
       "(0.223102526838873, 0.21657603600225014)"
      ]
     },
     "execution_count": 10,
     "metadata": {},
     "output_type": "execute_result"
    }
   ],
   "source": [
    "np.mean(y_train), np.mean(y_test)"
   ]
  },
  {
   "cell_type": "markdown",
   "id": "68af67e2-6c3b-4aaf-8ac8-a1820a6715bf",
   "metadata": {},
   "source": [
    "# Criando o Modelo"
   ]
  },
  {
   "cell_type": "code",
   "execution_count": 11,
   "id": "4e98dfd0-73be-4dca-9be7-cb69502c578c",
   "metadata": {},
   "outputs": [],
   "source": [
    "from sklearn.linear_model import LogisticRegression\n",
    "\n",
    "lr = LogisticRegression()  ## instanciando o modelo\n",
    "lr.fit(X_train, y_train)\n",
    "y_pred = lr.predict(X_test)  ## previsões nos dados de teste"
   ]
  },
  {
   "cell_type": "markdown",
   "id": "0b017f13-78c3-41a5-bc43-c8763676714c",
   "metadata": {},
   "source": [
    "## Calculando a Acurácia"
   ]
  },
  {
   "cell_type": "code",
   "execution_count": 12,
   "id": "881650f2-7fbf-4ed1-bd0a-db55b4fd4f51",
   "metadata": {},
   "outputs": [
    {
     "data": {
      "text/plain": [
       "array([0, 0, 0, ..., 0, 0, 0], dtype=int64)"
      ]
     },
     "execution_count": 12,
     "metadata": {},
     "output_type": "execute_result"
    }
   ],
   "source": [
    "y_pred"
   ]
  },
  {
   "cell_type": "markdown",
   "id": "9ce8ba1a-8939-4dbb-a255-ea42a4ffc11a",
   "metadata": {},
   "source": [
    "Como saber se esse modelo é bom?"
   ]
  },
  {
   "cell_type": "code",
   "execution_count": 13,
   "id": "52edad4b-b3e9-4d5a-9804-cd97ca381dd3",
   "metadata": {},
   "outputs": [
    {
     "data": {
      "text/plain": [
       "0.7834239639977498"
      ]
     },
     "execution_count": 13,
     "metadata": {},
     "output_type": "execute_result"
    }
   ],
   "source": [
    "## calculo da acuracia\n",
    "\n",
    "acc = np.mean(y_pred == y_test)\n",
    "acc"
   ]
  },
  {
   "cell_type": "code",
   "execution_count": 14,
   "id": "4bf10e98-d3d0-4231-8568-eaf5e9c77500",
   "metadata": {},
   "outputs": [
    {
     "data": {
      "text/plain": [
       "array([0], dtype=int64)"
      ]
     },
     "execution_count": 14,
     "metadata": {},
     "output_type": "execute_result"
    }
   ],
   "source": [
    "np.unique(y_pred)"
   ]
  },
  {
   "cell_type": "markdown",
   "id": "f97e3130-7ac4-4187-ac42-ef6914e08547",
   "metadata": {},
   "source": [
    "#### Acurárcia está alta, indicando bom modelo, mas quando olhamos as previsões, ele não acerta as fraudes, ou seja, precisa de ajustes"
   ]
  },
  {
   "cell_type": "markdown",
   "id": "c97fd5d1-0938-49b0-a443-9902e9cc8c08",
   "metadata": {},
   "source": [
    "## Matriz de Confusão"
   ]
  },
  {
   "cell_type": "markdown",
   "id": "5e5573da-28c7-4153-9848-a1a1bb80d579",
   "metadata": {},
   "source": [
    "Base para cálculo de outras métricas"
   ]
  },
  {
   "cell_type": "code",
   "execution_count": 15,
   "id": "395b86f5-77d6-46cd-ad53-40905982061e",
   "metadata": {},
   "outputs": [
    {
     "data": {
      "text/plain": [
       "(0, 4178, 0, 1155)"
      ]
     },
     "execution_count": 15,
     "metadata": {},
     "output_type": "execute_result"
    }
   ],
   "source": [
    "## são as combinações de resultados em uma matriz\n",
    "\n",
    "TP = sum((y_pred==1)&(y_test==1))\n",
    "TN = sum((y_pred==0)&(y_test==0))\n",
    "FP = sum((y_pred==1)&(y_test==0))\n",
    "FN = sum((y_pred==0)&(y_test==1))\n",
    "\n",
    "TP, TN, FP, FN"
   ]
  },
  {
   "cell_type": "markdown",
   "id": "47bad60a-923d-4a3b-8ae2-ae42285cfe73",
   "metadata": {},
   "source": [
    "# Exercício 10"
   ]
  },
  {
   "cell_type": "markdown",
   "id": "ed4958ca-8ac6-416e-bfd0-74985cefd01a",
   "metadata": {},
   "source": [
    "### 1 - predict.proba"
   ]
  },
  {
   "cell_type": "code",
   "execution_count": 16,
   "id": "4694f935-c483-4bd6-b1ef-70f81b4b6c7e",
   "metadata": {},
   "outputs": [
    {
     "data": {
      "text/plain": [
       "array([[0.77460214, 0.22539786],\n",
       "       [0.77460214, 0.22539786],\n",
       "       [0.79040961, 0.20959039],\n",
       "       ...,\n",
       "       [0.79040961, 0.20959039],\n",
       "       [0.79040961, 0.20959039],\n",
       "       [0.79040961, 0.20959039]])"
      ]
     },
     "execution_count": 16,
     "metadata": {},
     "output_type": "execute_result"
    }
   ],
   "source": [
    "lr.predict_proba(X_test)"
   ]
  },
  {
   "cell_type": "markdown",
   "id": "010c7f24-3813-4f52-830e-414f4b2efe12",
   "metadata": {},
   "source": [
    "A primeira coluna diz sobre a probabilidade da pessoa ficar como 0, ou seja, não ficar inadimplente, enquanto que a segunda coluna fala sobre a pessoa se tornar inadimplente, com marcação 1"
   ]
  },
  {
   "cell_type": "markdown",
   "id": "7b44f4fb-1c06-4f13-84c4-7ffcebe83428",
   "metadata": {},
   "source": [
    "### 2 - Olhando a parte 'positiva'"
   ]
  },
  {
   "cell_type": "code",
   "execution_count": 18,
   "id": "2e539ee2-8fa8-48ff-9556-15b69769d9c3",
   "metadata": {},
   "outputs": [
    {
     "data": {
      "text/plain": [
       "array([0.22539786, 0.22539786, 0.20959039, ..., 0.20959039, 0.20959039,\n",
       "       0.20959039])"
      ]
     },
     "execution_count": 18,
     "metadata": {},
     "output_type": "execute_result"
    }
   ],
   "source": [
    "pos_proba = lr.predict_proba(X_test)[:,1]\n",
    "pos_proba"
   ]
  },
  {
   "cell_type": "markdown",
   "id": "e1ce6949-c9f4-4e02-aa6f-278e6b667d5d",
   "metadata": {},
   "source": [
    "### 3 - Histograma"
   ]
  },
  {
   "cell_type": "code",
   "execution_count": 19,
   "id": "edb1887d-dc40-4e69-8bf4-c2fafad64fc6",
   "metadata": {},
   "outputs": [
    {
     "data": {
      "text/plain": [
       "(array([1883.,    0.,    0., 2519.,    0.,    0.,  849.,    0.,    0.,\n",
       "          82.]),\n",
       " array([0.20959039, 0.2145797 , 0.21956901, 0.22455832, 0.22954762,\n",
       "        0.23453693, 0.23952624, 0.24451555, 0.24950485, 0.25449416,\n",
       "        0.25948347]),\n",
       " <BarContainer object of 10 artists>)"
      ]
     },
     "execution_count": 19,
     "metadata": {},
     "output_type": "execute_result"
    },
    {
     "data": {
      "image/png": "[encoded data removed]",
      "text/plain": [
       "<Figure size 640x480 with 1 Axes>"
      ]
     },
     "metadata": {},
     "output_type": "display_data"
    }
   ],
   "source": [
    "plt.hist(pos_proba)"
   ]
  },
  {
   "cell_type": "markdown",
   "id": "5761c999-63f8-4858-98ee-0709e26288c6",
   "metadata": {},
   "source": [
    "Podemos ver que a distribuição dos valores da classe positiva estão muito abaixo de 0.5, ou seja, precisamos checar o threshold"
   ]
  },
  {
   "cell_type": "markdown",
   "id": "5ca2c4a6-50d3-4c89-9104-5e98b6cf3094",
   "metadata": {},
   "source": [
    "### 4 - Isolar Probabilidades (Neg/pos)"
   ]
  },
  {
   "cell_type": "code",
   "execution_count": 20,
   "id": "ffe47235-8a5f-4526-a326-4ba6384e9900",
   "metadata": {},
   "outputs": [],
   "source": [
    "pos_sample_pos_proba = pos_proba[y_test==1]\n",
    "neg_sample_pos_proba = pos_proba[y_test==0]"
   ]
  },
  {
   "cell_type": "markdown",
   "id": "d70d4603-7d2d-4d52-9eca-8bd2c95aeca5",
   "metadata": {},
   "source": [
    "### 5 - Histograma Empilhado"
   ]
  },
  {
   "cell_type": "code",
   "execution_count": 24,
   "id": "a41617da-bf38-437a-afc0-959a67aa2181",
   "metadata": {},
   "outputs": [
    {
     "data": {
      "text/plain": [
       "<matplotlib.legend.Legend at 0x278d14ac610>"
      ]
     },
     "execution_count": 24,
     "metadata": {},
     "output_type": "execute_result"
    },
    {
     "data": {
      "image/png": "[encoded data removed]",
      "text/plain": [
       "<Figure size 640x480 with 1 Axes>"
      ]
     },
     "metadata": {},
     "output_type": "display_data"
    }
   ],
   "source": [
    "plt.hist([pos_sample_pos_proba, neg_sample_pos_proba]);\n",
    "plt.legend(['Positivo', 'Negativo'])"
   ]
  },
  {
   "cell_type": "markdown",
   "id": "35285fdb-d62e-46b0-b243-69b787b25419",
   "metadata": {},
   "source": [
    "### 6 -  Curva ROC"
   ]
  },
  {
   "cell_type": "code",
   "execution_count": 28,
   "id": "7097fd20-3bb3-48f8-b066-3b75f06af678",
   "metadata": {},
   "outputs": [
    {
     "data": {
      "text/plain": [
       "[<matplotlib.lines.Line2D at 0x278d14cffa0>]"
      ]
     },
     "execution_count": 28,
     "metadata": {},
     "output_type": "execute_result"
    },
    {
     "data": {
      "image/png": "[encoded data removed]",
      "text/plain": [
       "<Figure size 640x480 with 1 Axes>"
      ]
     },
     "metadata": {},
     "output_type": "display_data"
    }
   ],
   "source": [
    "from sklearn import metrics\n",
    "\n",
    "fpr, tpr, thresholds = metrics.roc_curve(y_test, pos_proba)\n",
    "plt.plot(fpr, tpr, '-')\n",
    "plt.plot([0,1], [0,1], 'r--')"
   ]
  },
  {
   "cell_type": "code",
   "execution_count": 30,
   "id": "764e2504-de13-477b-a0a6-cfb7f53621ac",
   "metadata": {},
   "outputs": [
    {
     "name": "stdout",
     "output_type": "stream",
     "text": [
      "[       inf 0.25948347 0.24203246 0.22539786 0.20959039]\n"
     ]
    }
   ],
   "source": [
    "print(thresholds)"
   ]
  }
 ],
 "metadata": {
  "kernelspec": {
   "display_name": "Python 3 (ipykernel)",
   "language": "python",
   "name": "python3"
  },
  "language_info": {
   "codemirror_mode": {
    "name": "ipython",
    "version": 3
   },
   "file_extension": ".py",
   "mimetype": "text/x-python",
   "name": "python",
   "nbconvert_exporter": "python",
   "pygments_lexer": "ipython3",
   "version": "3.8.18"
  }
 },
 "nbformat": 4,
 "nbformat_minor": 5
}
